{
 "cells": [
  {
   "cell_type": "code",
   "execution_count": 1,
   "metadata": {},
   "outputs": [],
   "source": [
    "import numpy as np\n",
    "import cv2\n",
    "import matplotlib.pyplot as plt\n",
    "# %matplotlib notebook\n",
    "%matplotlib qt\n",
    "def recoverTransformation(Image1, Image2, n):\n",
    "    assert len(Image1.shape) == len(Image2.shape), 'Image1 and Image2 must have same channels'  \n",
    "    # Draw atleast 3 points on both images in same order, i.e kth point marked should be on the same position in both images\n",
    "    plt.imshow(Image1)\n",
    "    image1_points = plt.ginput(n)\n",
    "    plt.show()\n",
    "    plt.close()\n",
    "\n",
    "    plt.imshow(Image2)\n",
    "    image2_points = plt.ginput(n)\n",
    "    plt.close()\n",
    "    X = np.array([[[pt[0], pt[1], 1, 0, 0, 0], [0, 0, 0, pt[0], pt[1], 1]] for pt in image2_points])\n",
    "    c = X.shape[0]\n",
    "    X = X.reshape(2*c,6)\n",
    "    \n",
    "    x_prime = []\n",
    "    for pt in image1_points:\n",
    "        x_prime.append(pt[0])\n",
    "        x_prime.append(pt[1])\n",
    "    x_prime = np.array(x_prime)\n",
    "\n",
    "    X_pseudo = np.matmul(np.linalg.inv(np.matmul(np.transpose(X), X)), np.transpose(X))\n",
    "    T = np.matmul(X_pseudo, x_prime)\n",
    "    T = T.reshape(2,3)\n",
    "    rows, cols, = Image1.shape[0], Image1.shape[1]\n",
    "    T_Image = cv2.warpAffine(Image2,T,(cols,rows))\n",
    "    \n",
    "    A, t = T[:2, :2], [T[0,2], T[1,2]]\n",
    "    T_points = []\n",
    "    for p in image2_points:\n",
    "        t_p = np.dot(A,p)+t\n",
    "        T_points.append(t_p)\n",
    "    MSEPix = (np.square(np.array(image1_points) - np.array(T_points))).mean()\n",
    "    MSECorPts = (np.square(Image1 - T_Image)).mean()\n",
    "    return [MSEPix, MSECorPts, T, T_Image]"
   ]
  },
  {
   "cell_type": "code",
   "execution_count": 2,
   "metadata": {},
   "outputs": [],
   "source": [
    "def registerImages(ImageNew, ImageOld):\n",
    "\n",
    "   \n",
    "    # recovering transformation\n",
    "    MSEPix, MSECorPts, T, T_Image= recoverTransformation(ImageNew, ImageOld, 5)\n",
    "    print (\"The mean squared error of pixels of T_image and Image2\" , MSEPix )\n",
    "    print(\"The mean squared error of correspondence points and transformed points\", MSECorPts)\n",
    "    print(\" Recovered transformation\" , T)\n",
    "    # Masking\n",
    "    indices = T_Image!=0\n",
    "    registeredImage = np.copy(ImageNew)\n",
    "    registeredImage[indices] = T_Image[indices]\n",
    "    return registeredImage"
   ]
  },
  {
   "cell_type": "code",
   "execution_count": 3,
   "metadata": {},
   "outputs": [
    {
     "name": "stdout",
     "output_type": "stream",
     "text": [
      "The mean squared error of pixels of T_image and Image2 185.35753791218264\n",
      "The mean squared error of correspondence points and transformed points 99.04440048993644\n",
      " Recovered transformation [[ 1.72373683e+00 -9.43749060e-03  1.96083686e+02]\n",
      " [ 3.22864330e-02  1.06132528e+00  6.51826874e+01]]\n"
     ]
    },
    {
     "data": {
      "text/plain": [
       "<matplotlib.image.AxesImage at 0x1760a45c640>"
      ]
     },
     "execution_count": 3,
     "metadata": {},
     "output_type": "execute_result"
    }
   ],
   "source": [
    "ImageNew = plt.imread('dataset/badshahiNew.jpg')\n",
    "ImageOld = plt.imread('dataset/badshahiOld.jpg')\n",
    "#ImageNew = cv2.cvtColor(ImageNew, cv2.COLOR_BGR2GRAY)\n",
    "registeredImage = registerImages(ImageNew, ImageOld)\n",
    "cv2.imwrite('Results/Badshahi_registered_image.png', registeredImage)\n",
    "plt.imshow(registeredImage)"
   ]
  },
  {
   "cell_type": "code",
   "execution_count": null,
   "metadata": {},
   "outputs": [],
   "source": []
  },
  {
   "cell_type": "code",
   "execution_count": null,
   "metadata": {},
   "outputs": [],
   "source": []
  },
  {
   "cell_type": "code",
   "execution_count": null,
   "metadata": {},
   "outputs": [],
   "source": []
  },
  {
   "cell_type": "code",
   "execution_count": null,
   "metadata": {},
   "outputs": [],
   "source": []
  }
 ],
 "metadata": {
  "kernelspec": {
   "display_name": "Python 3",
   "language": "python",
   "name": "python3"
  },
  "language_info": {
   "codemirror_mode": {
    "name": "ipython",
    "version": 3
   },
   "file_extension": ".py",
   "mimetype": "text/x-python",
   "name": "python",
   "nbconvert_exporter": "python",
   "pygments_lexer": "ipython3",
   "version": "3.8.5"
  }
 },
 "nbformat": 4,
 "nbformat_minor": 4
}
