{
 "cells": [
  {
   "cell_type": "code",
   "execution_count": null,
   "metadata": {},
   "outputs": [],
   "source": [
    "import numpy as np\n",
    "import cv2\n",
    "import matplotlib.pyplot as plt\n",
    "# %matplotlib notebook\n",
    "%matplotlib qt\n",
    "def recoverTransformation(Image1, Image2, n):\n",
    "    assert len(Image1.shape) == len(Image2.shape), 'Image1 and Image2 must have same channels'  \n",
    "    \n",
    "    # geting correspondences\n",
    "    plt.imshow(Image1)\n",
    "    image1_points = plt.ginput(n)\n",
    "    plt.show()\n",
    "    plt.close()\n",
    "\n",
    "    plt.imshow(Image2)\n",
    "    image2_points = plt.ginput(n)\n",
    "    plt.close()\n",
    "    # Setting up required equations\n",
    "    X = np.array([[[pt[0], pt[1], 1, 0, 0, 0], [0, 0, 0, pt[0], pt[1], 1]] for pt in image2_points])\n",
    "    c = X.shape[0]\n",
    "    X = X.reshape(2*c,6)\n",
    "    \n",
    "    x_prime = []\n",
    "    for pt in image1_points:\n",
    "        x_prime.append(pt[0])\n",
    "        x_prime.append(pt[1])\n",
    "    x_prime = np.array(x_prime)\n",
    "    \n",
    "    # Recovering transformation\n",
    "    X_pseudo = np.matmul(np.linalg.inv(np.matmul(np.transpose(X), X)), np.transpose(X))\n",
    "    T = np.matmul(X_pseudo, x_prime)\n",
    "    T = T.reshape(2,3)\n",
    "    rows, cols, = Image1.shape[0], Image1.shape[1]\n",
    "    T_Image = cv2.warpAffine(Image2,T,(cols,rows))\n",
    "    \n",
    "    A, t = T[:2, :2], [T[0,2], T[1,2]]\n",
    "    T_points = []\n",
    "    for p in image2_points:\n",
    "        t_p = np.dot(A,p)+t\n",
    "        T_points.append(t_p)\n",
    "    # Calculating errors\n",
    "    MSEPix = (np.square(np.array(image1_points) - np.array(T_points))).mean()\n",
    "    MSECorPts = (np.square(Image1 - T_Image)).mean()\n",
    "    return [MSEPix, MSECorPts, T, T_Image]"
   ]
  },
  {
   "cell_type": "code",
   "execution_count": 1,
   "metadata": {},
   "outputs": [
    {
     "ename": "NameError",
     "evalue": "name 'plt' is not defined",
     "output_type": "error",
     "traceback": [
      "\u001b[1;31m---------------------------------------------------------------------------\u001b[0m",
      "\u001b[1;31mNameError\u001b[0m                                 Traceback (most recent call last)",
      "\u001b[1;32m<ipython-input-1-75f15467edad>\u001b[0m in \u001b[0;36m<module>\u001b[1;34m\u001b[0m\n\u001b[1;32m----> 1\u001b[1;33m \u001b[0mimage1\u001b[0m \u001b[1;33m=\u001b[0m \u001b[0mplt\u001b[0m\u001b[1;33m.\u001b[0m\u001b[0mimread\u001b[0m\u001b[1;33m(\u001b[0m\u001b[1;34m'dataset/station1.png'\u001b[0m\u001b[1;33m)\u001b[0m\u001b[1;33m\u001b[0m\u001b[1;33m\u001b[0m\u001b[0m\n\u001b[0m\u001b[0;32m      2\u001b[0m \u001b[0mimage2\u001b[0m \u001b[1;33m=\u001b[0m \u001b[0mplt\u001b[0m\u001b[1;33m.\u001b[0m\u001b[0mimread\u001b[0m\u001b[1;33m(\u001b[0m\u001b[1;34m'dataset/station2.png'\u001b[0m\u001b[1;33m)\u001b[0m\u001b[1;33m\u001b[0m\u001b[1;33m\u001b[0m\u001b[0m\n\u001b[0;32m      3\u001b[0m \u001b[1;31m#image1 = cv2.cvtColor(image1, cv2.COLOR_BGR2GRAY)\u001b[0m\u001b[1;33m\u001b[0m\u001b[1;33m\u001b[0m\u001b[1;33m\u001b[0m\u001b[0m\n\u001b[0;32m      4\u001b[0m \u001b[1;31m#image2 = cv2.cvtColor(image2, cv2.COLOR_BGR2GRAY)\u001b[0m\u001b[1;33m\u001b[0m\u001b[1;33m\u001b[0m\u001b[1;33m\u001b[0m\u001b[0m\n\u001b[0;32m      5\u001b[0m \u001b[0mMSEPix\u001b[0m\u001b[1;33m,\u001b[0m \u001b[0mMSECorPts\u001b[0m\u001b[1;33m,\u001b[0m \u001b[0mT\u001b[0m\u001b[1;33m,\u001b[0m \u001b[0mT_Image\u001b[0m \u001b[1;33m=\u001b[0m \u001b[0mrecoverTransformation\u001b[0m\u001b[1;33m(\u001b[0m\u001b[0mimage1\u001b[0m\u001b[1;33m,\u001b[0m \u001b[0mimage2\u001b[0m\u001b[1;33m,\u001b[0m \u001b[1;36m5\u001b[0m\u001b[1;33m)\u001b[0m\u001b[1;33m\u001b[0m\u001b[1;33m\u001b[0m\u001b[0m\n",
      "\u001b[1;31mNameError\u001b[0m: name 'plt' is not defined"
     ]
    }
   ],
   "source": [
    "image1 = plt.imread('dataset/station1.png')\n",
    "image2 = plt.imread('dataset/station2.png')\n",
    "#image1 = cv2.cvtColor(image1, cv2.COLOR_BGR2GRAY)\n",
    "#image2 = cv2.cvtColor(image2, cv2.COLOR_BGR2GRAY)\n",
    "MSEPix, MSECorPts, T, T_Image = recoverTransformation(image1, image2, 5)\n",
    "print (\"The mean squared error of pixels of T_image and Image2 is\" , MSEPix )\n",
    "print(\"The mean squared error of correspondence points and transformed points is\", MSECorPts)\n",
    "print(\"Recovered transformation\" , T)\n",
    "cv2.imwrite('Results/Station_transformed_image.png', T_Image)\n",
    "plt.imshow(T_Image)"
   ]
  },
  {
   "cell_type": "code",
   "execution_count": null,
   "metadata": {},
   "outputs": [],
   "source": []
  },
  {
   "cell_type": "code",
   "execution_count": null,
   "metadata": {},
   "outputs": [],
   "source": []
  }
 ],
 "metadata": {
  "kernelspec": {
   "display_name": "Python 3",
   "language": "python",
   "name": "python3"
  },
  "language_info": {
   "codemirror_mode": {
    "name": "ipython",
    "version": 3
   },
   "file_extension": ".py",
   "mimetype": "text/x-python",
   "name": "python",
   "nbconvert_exporter": "python",
   "pygments_lexer": "ipython3",
   "version": "3.8.5"
  }
 },
 "nbformat": 4,
 "nbformat_minor": 4
}
